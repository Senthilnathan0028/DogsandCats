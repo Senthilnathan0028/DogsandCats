{
 "cells": [
  {
   "cell_type": "code",
   "execution_count": 6,
   "metadata": {},
   "outputs": [],
   "source": [
    "import tensorflow"
   ]
  },
  {
   "cell_type": "code",
   "execution_count": 7,
   "metadata": {},
   "outputs": [],
   "source": [
    "from keras.preprocessing.image import ImageDataGenerator, array_to_img, img_to_array, load_img\n"
   ]
  },
  {
   "cell_type": "code",
   "execution_count": 5,
   "metadata": {},
   "outputs": [],
   "source": [
    "from keras.models import Sequential\n",
    "from keras.layers import Conv2D, MaxPooling2D\n",
    "from keras.layers import Activation, Dropout, Flatten, Dense\n",
    "\n",
    "model = Sequential()\n",
    "model.add(Conv2D(32, (3, 3), input_shape=(300, 300, 3)))\n",
    "model.add(Activation('relu'))\n",
    "model.add(MaxPooling2D(pool_size=(2, 2)))\n",
    "\n",
    "model.add(Conv2D(32, (3, 3)))\n",
    "model.add(Activation('relu'))\n",
    "model.add(MaxPooling2D(pool_size=(2, 2)))\n",
    "\n",
    "model.add(Conv2D(64, (3, 3)))\n",
    "model.add(Activation('relu'))\n",
    "model.add(MaxPooling2D(pool_size=(2, 2)))\n",
    "\n",
    "# the model so far outputs 3D feature maps (height, width, features)\n",
    "\n",
    "model.add(Flatten())  # this converts our 3D feature maps to 1D feature vectors\n",
    "model.add(Dense(64))\n",
    "model.add(Activation('relu'))\n",
    "model.add(Dropout(0.5))\n",
    "model.add(Dense(1))\n",
    "model.add(Activation('sigmoid'))\n",
    "# COMPILE\n",
    "model.compile(loss='binary_crossentropy',\n",
    "              optimizer='rmsprop',\n",
    "              metrics=['accuracy'])\n"
   ]
  },
  {
   "cell_type": "code",
   "execution_count": 8,
   "metadata": {},
   "outputs": [
    {
     "name": "stdout",
     "output_type": "stream",
     "text": [
      "Found 4001 images belonging to 2 classes.\n",
      "Found 280 images belonging to 2 classes.\n"
     ]
    }
   ],
   "source": [
    "batch_size = 20\n",
    "\n",
    "# this is the augmentation configuration we will use for training\n",
    "train_datagen = ImageDataGenerator(\n",
    "        rescale=1./255,\n",
    "        shear_range=0.2,\n",
    "        zoom_range=0.2,\n",
    "        horizontal_flip=True)\n",
    "\n",
    "# this is the augmentation configuration we will use for testing:\n",
    "# only rescaling\n",
    "test_datagen = ImageDataGenerator(rescale=1./255)\n",
    "\n",
    "# this is a generator that will read pictures found in subfolers of 'data/train', and indefinitely generate\n",
    "# batches of augmented image data\n",
    "train_generator = train_datagen.flow_from_directory(\n",
    "        'C:\\Python\\Python37\\Train',  # this is the target directory\n",
    "        target_size=(300, 300),classes=['Cats','Dogs'],# all images will be resized to 300x300\n",
    "        batch_size=batch_size,\n",
    "        class_mode='binary')  # since we use binary_crossentropy loss, we need binary labels\n",
    "# this is a similar generator, for validation data\n",
    "validation_generator = test_datagen.flow_from_directory(\n",
    "        'C:\\Python\\Python37\\Test',\n",
    "        target_size=(300, 300),classes=['Cats','Dogs'],\n",
    "        batch_size=batch_size,\n",
    "        class_mode='binary')\n"
   ]
  },
  {
   "cell_type": "code",
   "execution_count": 10,
   "metadata": {},
   "outputs": [
    {
     "name": "stdout",
     "output_type": "stream",
     "text": [
      "Epoch 1/10\n",
      "10/10 [==============================] - 60s 6s/step - loss: 0.6836 - acc: 0.5950 - val_loss: 0.6944 - val_acc: 0.5464\n",
      "Epoch 2/10\n",
      "10/10 [==============================] - 56s 6s/step - loss: 0.6895 - acc: 0.5550 - val_loss: 0.7661 - val_acc: 0.4964\n",
      "Epoch 3/10\n",
      "10/10 [==============================] - 56s 6s/step - loss: 0.7126 - acc: 0.5650 - val_loss: 0.6754 - val_acc: 0.5643\n",
      "Epoch 4/10\n",
      "10/10 [==============================] - 56s 6s/step - loss: 0.6972 - acc: 0.5350 - val_loss: 0.6676 - val_acc: 0.5107\n",
      "Epoch 5/10\n",
      "10/10 [==============================] - 56s 6s/step - loss: 0.6932 - acc: 0.5250 - val_loss: 0.6583 - val_acc: 0.6071\n",
      "Epoch 6/10\n",
      "10/10 [==============================] - 56s 6s/step - loss: 0.6932 - acc: 0.5750 - val_loss: 0.7130 - val_acc: 0.5214\n",
      "Epoch 7/10\n",
      "10/10 [==============================] - 56s 6s/step - loss: 0.6940 - acc: 0.5650 - val_loss: 0.6560 - val_acc: 0.6000\n",
      "Epoch 8/10\n",
      "10/10 [==============================] - 56s 6s/step - loss: 0.7040 - acc: 0.5300 - val_loss: 0.6689 - val_acc: 0.6357\n",
      "Epoch 9/10\n",
      "10/10 [==============================] - 56s 6s/step - loss: 0.7030 - acc: 0.5650 - val_loss: 1.1157 - val_acc: 0.5036\n",
      "Epoch 10/10\n",
      "10/10 [==============================] - 56s 6s/step - loss: 0.7025 - acc: 0.6050 - val_loss: 0.6101 - val_acc: 0.6964\n"
     ]
    }
   ],
   "source": [
    "model.fit_generator(\n",
    "        train_generator,\n",
    "        steps_per_epoch=200 // batch_size,\n",
    "        epochs=10,\n",
    "        validation_data=validation_generator,\n",
    "        validation_steps=14 // batch_size)\n",
    "\n",
    "model.save_weights('50_epochs.h5')  # always save your weights after training or during training"
   ]
  },
  {
   "cell_type": "code",
   "execution_count": 6,
   "metadata": {},
   "outputs": [],
   "source": [
    "model.compile(loss='binary_crossentropy',\n",
    "              optimizer='rmsprop',\n",
    "              metrics=['accuracy'])"
   ]
  },
  {
   "cell_type": "code",
   "execution_count": 12,
   "metadata": {},
   "outputs": [],
   "source": [
    "import sys\n",
    "from PIL import Image\n",
    "sys.modules['Image'] = Image "
   ]
  },
  {
   "cell_type": "code",
   "execution_count": null,
   "metadata": {},
   "outputs": [],
   "source": []
  }
 ],
 "metadata": {
  "kernelspec": {
   "display_name": "Python 3",
   "language": "python",
   "name": "python3"
  },
  "language_info": {
   "codemirror_mode": {
    "name": "ipython",
    "version": 3
   },
   "file_extension": ".py",
   "mimetype": "text/x-python",
   "name": "python",
   "nbconvert_exporter": "python",
   "pygments_lexer": "ipython3",
   "version": "3.6.6"
  }
 },
 "nbformat": 4,
 "nbformat_minor": 2
}
